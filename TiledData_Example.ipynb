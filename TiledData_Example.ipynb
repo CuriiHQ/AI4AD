{
 "cells": [
  {
   "cell_type": "code",
   "execution_count": null,
   "id": "0a19ec2a",
   "metadata": {},
   "outputs": [],
   "source": [
    "## Using R for an example to show to load the Tiled Data\n",
    "## and perform a simple GLM with LASSO on the data. Note: using R because GLMnet\n",
    "## is much faster than scikitlearn for performing LASSO and finding optimial regularization\n",
    "## This model is simplified (i.e. does not include PCA including 1000 Genomes Data, Age, Gender or use Adaptive LASSO) and does not preform bootstrapping to find which variants are stable\n",
    "# This demo assumes you are using tiled data after the basic filtering step which has a different format\n",
    "# than the full tiled data or the subset of the tileddata.\n",
    "\n",
    "# Inorder to use Python\n",
    "reticulate::use_python('/usr/local/bin/python3')\n",
    "reticulate::py_discover_config()\n",
    "\n",
    "# R libraries\n",
    "library(Matrix)\n",
    "library(foreach)\n",
    "suppressMessages(library(glmnet))\n",
    "library(reticulate)\n",
    "library(methods)\n",
    "\n",
    "# Python libraries\n",
    "scipy <- import(\"scipy\")\n",
    "np <- import(\"numpy\")"
   ]
  },
  {
   "cell_type": "code",
   "execution_count": null,
   "id": "c7654819",
   "metadata": {},
   "outputs": [],
   "source": [
    "# Loading in Filtered Tiled Data\n",
    "# See 2xpu4-4zz18-bmvaczs8gw7di41/README_Filtered_2021_05.md for detailed descriptions of inputs\n",
    "\n",
    "# X.npy, Xr.npy, Xc.npy: compoments used to generate a sparse matrix of the filtered data\n",
    "Xdata_file = '../keep/by_id/2xpu4-4zz18-bmvaczs8gw7di41/X.npy'\n",
    "Xrdata_file = '../keep/by_id/2xpu4-4zz18-bmvaczs8gw7di41/Xr.npy'\n",
    "Xcdata_file = '../keep/by_id/2xpu4-4zz18-bmvaczs8gw7di41/Xc.npy'\n",
    "\n",
    "# XPCA.npy: matrix of top 20 PCA components of the 1-hot representation of the tiled data\n",
    "XPCA_file = '../keep/by_id/2xpu4-4zz18-bmvaczs8gw7di41/XPCA.npy'\n",
    "\n",
    "# y.npy: corresponding AD phenotype value for each row of the filtered tile data, 1 for case and 0 for control\n",
    "ydata_file = '../keep/by_id/2xpu4-4zz18-bmvaczs8gw7di41/y.npy'\n",
    "\n",
    "# varvals.npy: vector indicating the tile variant represented by each column in the filtered tiled data matrix\n",
    "tilevariant_file = '../keep/by_id/2xpu4-4zz18-bmvaczs8gw7di41/varvals.npy'\n",
    "\n",
    "# tiletag.npy: vector of tile tag for each column in the filtered tiled matrix\n",
    "tiletagnumber_file = '../keep/by_id/2xpu4-4zz18-bmvaczs8gw7di41/tiletag.npy'\n",
    "\n",
    "# zygosity.npy: vector indicating zygosity for each column in the filtered tiled data matrix, 1 if tile variant present in one allele, 2 if present in both alleles\n",
    "zygosity_file = '../keep/by_id/2xpu4-4zz18-bmvaczs8gw7di41/zygosity.npy'\n",
    "\n",
    "# annotations.csv:  mapping from tile variants to HGVS annotations relative to hg38\n",
    "annotation_file = '../keep/by_id/2xpu4-4zz18-1kvsfedea77ban7/annotations.csv'"
   ]
  },
  {
   "cell_type": "code",
   "execution_count": null,
   "id": "6e2251b7",
   "metadata": {
    "scrolled": true
   },
   "outputs": [],
   "source": [
    "# Loading in X array and make into vector\n",
    "Xdata <- as.vector(np$load(Xdata_file))\n",
    "Xr <- as.integer(as.vector(np$load(Xrdata_file))) + 1\n",
    "Xc <- as.integer(as.vector(np$load(Xcdata_file))) + 1\n",
    "\n",
    "# Create a new sparse matrix out of X array\n",
    "Xmat <- sparseMatrix(Xr,Xc,x = Xdata)\n",
    "rm(Xr,Xc,Xdata) # removing to use less memory\n",
    "\n",
    "# Loading in PCA (this PCA is for just the AD WGS genomes)\n",
    "XPCA <- as.vector(np$load(XPCA_file))\n",
    "XPCA <- as(matrix(XPCA,nco=20,nrow=length(XPCA)/20),\"sparseMatrix\")\n",
    "\n",
    "# Combining X sparse matrix with PCA components\n",
    "Xmat = cbind(Xmat,XPCA)\n",
    "\n",
    "# Loading the y array and make into vector\n",
    "ynump <- np$load(ydata_file)\n",
    "y <- as.vector(ynump)\n",
    "rm(ynump) # removing to use less memory\n",
    "\n",
    "# Loading in tile variant numbers, tile tag numbers, and zygosity\n",
    "varvals <- as.integer(as.vector(np$load(tilevariant_file)))\n",
    "tiletag <- as.integer(as.vector(np$load(tiletagnumber_file)))\n",
    "zygosity <- as.integer(as.vector(np$load(zygosity_file)))"
   ]
  },
  {
   "cell_type": "code",
   "execution_count": null,
   "id": "22c39dbd",
   "metadata": {},
   "outputs": [],
   "source": [
    "# Setting up training and testing data for cross validation (80:20 training:testing split)\n",
    "dt = sort(sample(nrow(Xmat), nrow(Xmat)*0.8))\n",
    "Xtrain <- Xmat[dt,]\n",
    "Xtest <- Xmat[-dt,]\n",
    "ytrain <- y[dt]\n",
    "ytest <- y[-dt]"
   ]
  },
  {
   "cell_type": "code",
   "execution_count": null,
   "id": "e26857a1",
   "metadata": {},
   "outputs": [],
   "source": [
    "# Caluclating weights for Weighted Linear Regression since our case/control ratio is not 50:50\n",
    "fraction_0_train <- rep(1 - sum(ytrain == 0) / length(ytrain), sum(ytrain == 0))\n",
    "fraction_1_train <- rep(1 - sum(ytrain == 1) / length(ytrain), sum(ytrain == 1))\n",
    "fraction_0_test <- rep(1 - sum(ytest == 0) / length(ytest), sum(ytest == 0))\n",
    "fraction_1_test <- rep(1 - sum(ytest == 1) / length(ytest), sum(ytest == 1))\n",
    "\n",
    "wtrain <- rep(1,length(ytrain))\n",
    "wtest <- rep(1,length(ytest))\n",
    "\n",
    "wtrain[ytrain == 0] <- fraction_0_train\n",
    "wtrain[ytrain == 1] <- fraction_1_train\n",
    "wtest[ytest == 0] <- fraction_0_test\n",
    "wtest[ytest == 1] <- fraction_1_test"
   ]
  },
  {
   "cell_type": "code",
   "execution_count": null,
   "id": "58db8c5a",
   "metadata": {
    "scrolled": true
   },
   "outputs": [],
   "source": [
    "# Finding Best Regularization (LASSO)\n",
    "cv.lasso.class <- cv.glmnet(Xtrain, ytrain, family='binomial', alpha=1, nfolds=10, parallel=FALSE, keep=FALSE,standardize=FALSE, weights=wtrain, type.measure='class', trace.it=1)"
   ]
  },
  {
   "cell_type": "code",
   "execution_count": null,
   "id": "70f4c0ce",
   "metadata": {},
   "outputs": [],
   "source": [
    "# Plot and Save Figure\n",
    "plot(cv.lasso.class)"
   ]
  },
  {
   "cell_type": "code",
   "execution_count": null,
   "id": "a0f1653b",
   "metadata": {},
   "outputs": [],
   "source": [
    "# Assessing model\n",
    "preds = predict(cv.lasso.class, newx = Xtest, s = \"lambda.min\", weights = wtest)\n",
    "outcome = assess.glmnet(preds, newy = ytest, family = \"binomial\", weight = wtest)\n",
    "print(outcome$class)"
   ]
  },
  {
   "cell_type": "code",
   "execution_count": null,
   "id": "d6ddcc75",
   "metadata": {},
   "outputs": [],
   "source": [
    "# Confusion Matrix\n",
    "cm = confusion.glmnet(cv.lasso.class, newx = Xtest, newy = ytest, weights = wtest, s = \"lambda.min\")\n",
    "print(cm)"
   ]
  },
  {
   "cell_type": "code",
   "execution_count": null,
   "id": "00f2905d",
   "metadata": {},
   "outputs": [],
   "source": [
    "# Find regularization and nonzero coefficents corresponding to minimum \"error\"\n",
    "coefVec <- coef(cv.lasso.class, s = \"lambda.min\") # minimum error\n",
    "coefVec <- coefVec[-1]\n",
    "idxnzmin <- which(coefVec != 0)\n",
    "nzcoefVal <- coefVec[idxnzmin]"
   ]
  },
  {
   "cell_type": "code",
   "execution_count": null,
   "id": "ce2d7ed4",
   "metadata": {},
   "outputs": [],
   "source": [
    "# Adding to varvals labels to represent PC components\n",
    "PClist <- seq(1, 20)\n",
    "PClist <- paste0(\"PC\", PClist)\n",
    "varvals = append(varvals, PClist)"
   ]
  },
  {
   "cell_type": "code",
   "execution_count": null,
   "id": "5c6d374c",
   "metadata": {},
   "outputs": [],
   "source": [
    "# Sorting to find largest coefficent values, collecting tiledata in dataframe\n",
    "varvals <- varvals[idxnzmin]\n",
    "zygosity <- zygosity[idxnzmin]\n",
    "tiletag <- tiletag[idxnzmin]"
   ]
  },
  {
   "cell_type": "code",
   "execution_count": null,
   "id": "9af57b3d",
   "metadata": {},
   "outputs": [],
   "source": [
    "# Displaying tile information for non-zero coefficents\n",
    "tiledata <- data.frame(\"nonnzerocoefs\" = nzcoefVal, \"tiletag\" = tiletag, \"varvals\" = varvals, \"zygosity\" = zygosity)\n",
    "idxsort <- order(abs(tiledata$nonnzerocoefs), decreasing = TRUE)\n",
    "tiledata <- tiledata[idxsort,]\n",
    "print(head(tiledata,20))"
   ]
  },
  {
   "cell_type": "code",
   "execution_count": null,
   "id": "981d96b6",
   "metadata": {},
   "outputs": [],
   "source": [
    "# Finding HGVS annotations for top 20 tile variants in model\n",
    "# Note the following HGVS annotations may be of importance\n",
    "# Tile 9553646, variant 2 --> chr19:g.44908684T>C, https://www.ncbi.nlm.nih.gov/snp/rs429358\n",
    "\n",
    "# Helper function to look up tile variants in the annotation file\n",
    "# Returns NULL if there is no matching result, i.e., if the tile variant is the same as ref\n",
    "get_annotation <- function(tiletag, varvals) {\n",
    "  pattern = paste(\"\", tiletag, as.character(varvals), \"\", sep=\",\")\n",
    "  command = paste(\"grep\", pattern, annotation_file)\n",
    "  tryCatch(\n",
    "    {\n",
    "      annotation <- system(command, intern = TRUE)\n",
    "      return(annotation)\n",
    "    },\n",
    "    warning = function(w) {\n",
    "      return(NULL)\n",
    "    }\n",
    "  )\n",
    "}\n",
    "\n",
    "print(\"Finding annotations to top 20 tile variants\")\n",
    "results = c()\n",
    "for (i in 1:20) {\n",
    "  tiletag = tiledata$tiletag[i]\n",
    "  if (!is.na(tiletag)) {\n",
    "    varvals = as.numeric(tiledata$varvals[i])-1 # -1 offset required for filtered data\n",
    "    annotation = get_annotation(tiletag, varvals)\n",
    "    if (!is.null(annotation)) {\n",
    "      results = c(results, annotation)\n",
    "    } else if (varvals != 1) { # if that tile variant is ref, look up the most common tile variant in that position instead\n",
    "      for (i in 1:varvals-1) {\n",
    "        annotation <- get_annotation(tiletag, i)\n",
    "        if (!is.null(annotation)) {\n",
    "          results = c(results, annotation)\n",
    "          break\n",
    "        }\n",
    "      }\n",
    "    }\n",
    "  }\n",
    "}\n",
    "print(results)"
   ]
  }
 ],
 "metadata": {
  "kernelspec": {
   "display_name": "R",
   "language": "R",
   "name": "ir"
  },
  "language_info": {
   "codemirror_mode": "r",
   "file_extension": ".r",
   "mimetype": "text/x-r-source",
   "name": "R",
   "pygments_lexer": "r",
   "version": "4.0.4"
  }
 },
 "nbformat": 4,
 "nbformat_minor": 5
}
